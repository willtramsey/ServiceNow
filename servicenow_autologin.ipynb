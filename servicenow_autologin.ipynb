{
 "cells": [
  {
   "cell_type": "code",
   "execution_count": 11,
   "metadata": {},
   "outputs": [],
   "source": [
    "from selenium import webdriver\n",
    "from selenium.webdriver.chrome.options import Options\n",
    "import time\n",
    "import keyring"
   ]
  },
  {
   "cell_type": "code",
   "execution_count": 12,
   "metadata": {},
   "outputs": [],
   "source": [
    "# defining credentials for auth\n",
    "pwd = keyring.get_password(\"snow_prod\", \"wramsey@avidxchange.com\")"
   ]
  },
  {
   "cell_type": "code",
   "execution_count": 13,
   "metadata": {},
   "outputs": [],
   "source": [
    "chrome_options = Options()\n",
    "chrome_options.add_argument(\"--incognito\")\n",
    "your_exec_path = 'C:\\\\Users\\\\wramsey\\\\Downloads\\\\selenium chrome driver\\\\chromedriver_win32\\\\chromedriver.exe'\n",
    "driver = webdriver.Chrome(options=chrome_options, executable_path=your_exec_path)\n",
    "url = \"https://avidxchange.service-now.com/nav_to.do?uri=%2F$pa_dashboard.do\"\n",
    "driver.get(url)\n",
    "time.sleep(8)\n",
    "\n",
    "# ----------------------------------------------------------------------------------------------------------------\n",
    "\n",
    "elements = driver.find_elements_by_css_selector(\".ext-text-box\")\n",
    "username = elements[0]\n",
    "username.clear()\n",
    "\n",
    "user_name = \"wramsey@avidxchange.com\"\n",
    "username.send_keys(user_name)\n",
    "\n",
    "elements = driver.find_elements_by_css_selector(\"#idSIButton9\")\n",
    "submit = elements[0]\n",
    "submit.click()\n",
    "time.sleep(8)\n",
    "\n",
    "# ----------------------------------------------------------------------------------------------------------------\n",
    "\n",
    "elements = driver.find_elements_by_css_selector(\".ext-text-box\")\n",
    "password = elements[0]\n",
    "password.clear()\n",
    "\n",
    "user_name = pwd\n",
    "password.send_keys(user_name)\n",
    "\n",
    "elements = driver.find_elements_by_css_selector(\"#idSIButton9\")\n",
    "submit = elements[0]\n",
    "submit.click()\n",
    "\n",
    "# wait again and press after approving MFA\n",
    "time.sleep(10)\n",
    "elements = driver.find_elements_by_css_selector(\"#idSIButton9\")\n",
    "submit = elements[0]\n",
    "submit.click()"
   ]
  },
  {
   "cell_type": "code",
   "execution_count": null,
   "metadata": {},
   "outputs": [],
   "source": []
  }
 ],
 "metadata": {
  "kernelspec": {
   "display_name": "Python 3",
   "language": "python",
   "name": "python3"
  },
  "language_info": {
   "codemirror_mode": {
    "name": "ipython",
    "version": 3
   },
   "file_extension": ".py",
   "mimetype": "text/x-python",
   "name": "python",
   "nbconvert_exporter": "python",
   "pygments_lexer": "ipython3",
   "version": "3.9.0"
  }
 },
 "nbformat": 4,
 "nbformat_minor": 4
}
