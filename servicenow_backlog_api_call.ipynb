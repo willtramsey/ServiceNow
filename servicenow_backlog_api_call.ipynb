{
 "cells": [
  {
   "cell_type": "code",
   "execution_count": 1,
   "metadata": {},
   "outputs": [],
   "source": [
    "import requests\n",
    "import json\n",
    "import pandas as pd\n",
    "import keyring"
   ]
  },
  {
   "cell_type": "code",
   "execution_count": 2,
   "metadata": {},
   "outputs": [],
   "source": [
    "# defining credentials for auth\n",
    "# keyring.set_password(\"system\", \"username\", \"password\")\n",
    "user = 'wramsey'\n",
    "pwd = keyring.get_password(\"snow\", \"wramsey\")"
   ]
  },
  {
   "cell_type": "code",
   "execution_count": 3,
   "metadata": {},
   "outputs": [
    {
     "name": "stdout",
     "output_type": "stream",
     "text": [
      "Forgot to change URL!\n",
      "https://avidxchangedev.service-now.com\n"
     ]
    }
   ],
   "source": [
    "#Need to install requests package for python\n",
    "#easy_install requests\n",
    "import requests\n",
    "\n",
    "# Set the request parameters\n",
    "url = 'https://avidxchangetest.service-now.com/api/now/table/incident?sysparm_query=assignment_group%3Dfe169ea0db5e2700bd3ec170ba961941%5Eincident_state!%3D6%5Eassigned_to%3D0e6b4e19db7627405cfba895ca961987%5EORassigned_to%3D544c7f15dba5f3005cfba895ca961999%5EORassigned_to%3Dbfc51bbedb7054105cfba895ca9619f2%5Eactive%3Dtrue&sysparm_fields=subcategory%2Cnumber%2Cstate%2Csys_created_by%2Cshort_description%2Cassigned_to%2Copened_by%2Csys_created_on%2Cwatch_list%2Ccmdb_ci%2Cu_duration%2Cclosed_by%2Creopened_by%2Ctimeline%2Cresolved_by%2Csys_domain%2Ccalendar_stc%2Cclosed_at%2Ctime_worked%2Cresolved_at%2Ccaller_id%2Cclose_code%2Cu_decimal_1%2Cassignment_group%2Cdescription%2Ccalendar_duration%2Ccomments%2Cdue_date%2Ccategory&sysparm_limit=100'\n",
    "\n",
    "# checking to make sure we are not querying production\n",
    "if 'test' in url:\n",
    "    print('Forgot to change URL!')\n",
    "    url = url.replace('test', 'dev')\n",
    "    print(url[:38])\n",
    "\n",
    "# Set proper headers\n",
    "headers = {\"Content-Type\":\"application/json\",\"Accept\":\"application/json\"}\n",
    "\n",
    "# Do the HTTP request\n",
    "response = requests.get(url, auth=(user, pwd), headers=headers )\n",
    "\n",
    "# Check for HTTP codes other than 200\n",
    "if response.status_code != 200: \n",
    "    print('Status:', response.status_code, 'Headers:', response.headers, 'Error Response:',response.json())\n",
    "    exit()\n",
    "\n",
    "# Decode the JSON response into a dictionary and use the data\n",
    "data = response.json()"
   ]
  },
  {
   "cell_type": "code",
   "execution_count": 4,
   "metadata": {},
   "outputs": [
    {
     "data": {
      "text/plain": [
       "17"
      ]
     },
     "execution_count": 4,
     "metadata": {},
     "output_type": "execute_result"
    }
   ],
   "source": [
    "df_main = pd.DataFrame.from_dict(data['result'])\n",
    "pd.set_option('max_columns', None)\n",
    "df_main['state'].count()"
   ]
  },
  {
   "cell_type": "code",
   "execution_count": null,
   "metadata": {},
   "outputs": [],
   "source": []
  }
 ],
 "metadata": {
  "kernelspec": {
   "display_name": "Python 3",
   "language": "python",
   "name": "python3"
  },
  "language_info": {
   "codemirror_mode": {
    "name": "ipython",
    "version": 3
   },
   "file_extension": ".py",
   "mimetype": "text/x-python",
   "name": "python",
   "nbconvert_exporter": "python",
   "pygments_lexer": "ipython3",
   "version": "3.9.0"
  }
 },
 "nbformat": 4,
 "nbformat_minor": 4
}
